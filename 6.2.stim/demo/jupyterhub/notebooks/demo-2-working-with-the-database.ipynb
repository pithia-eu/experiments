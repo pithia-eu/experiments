{
 "cells": [
  {
   "cell_type": "code",
   "execution_count": 1,
   "metadata": {
    "pycharm": {
     "name": "#%%\n"
    }
   },
   "outputs": [
    {
     "name": "stdout",
     "output_type": "stream",
     "text": [
      "mysql: [Warning] Using a password on the command line interface can be insecure.\r\n",
      "+--------------------+\r\n",
      "| Database           |\r\n",
      "+--------------------+\r\n",
      "| information_schema |\r\n",
      "| mysql              |\r\n",
      "| performance_schema |\r\n",
      "| server_dias_devel  |\r\n",
      "| sys                |\r\n",
      "+--------------------+\r\n"
     ]
    }
   ],
   "source": [
    "!mysql -h mysql -u root -ppassword -e \"show databases;\""
   ]
  },
  {
   "cell_type": "code",
   "execution_count": 2,
   "metadata": {
    "pycharm": {
     "name": "#%%\n"
    }
   },
   "outputs": [
    {
     "name": "stdout",
     "output_type": "stream",
     "text": [
      "/home/jovyan/u1/pithia/demo/notebooks\r\n"
     ]
    }
   ],
   "source": [
    "!pwd"
   ]
  },
  {
   "cell_type": "code",
   "execution_count": 3,
   "metadata": {
    "pycharm": {
     "name": "#%%\n"
    }
   },
   "outputs": [
    {
     "name": "stdout",
     "output_type": "stream",
     "text": [
      "mysql: [Warning] Using a password on the command line interface can be insecure.\r\n",
      "Table\tSize (MB)\r\n",
      "magdata\t9.14\r\n",
      "swepamdata\t7.30\r\n",
      "magdatafiles\t0.34\r\n",
      "swepamdatafiles\t0.34\r\n",
      "min_magdata\t0.09\r\n",
      "stormsace\t0.09\r\n",
      "min_swepamdata\t0.08\r\n"
     ]
    }
   ],
   "source": [
    "!mysql -h mysql -u root -ppassword server_dias_devel < /home/jovyan/u1/pithia/demo/queries/table_size.sql"
   ]
  },
  {
   "cell_type": "code",
   "execution_count": 4,
   "metadata": {
    "pycharm": {
     "name": "#%%\n"
    }
   },
   "outputs": [
    {
     "name": "stdout",
     "output_type": "stream",
     "text": [
      "mysql: [Warning] Using a password on the command line interface can be insecure.\r\n",
      "+-----------------------------+\r\n",
      "| Tables_in_server_dias_devel |\r\n",
      "+-----------------------------+\r\n",
      "| magdata                     |\r\n",
      "| magdatafiles                |\r\n",
      "| min_magdata                 |\r\n",
      "| min_swepamdata              |\r\n",
      "| stormsace                   |\r\n",
      "| swepamdata                  |\r\n",
      "| swepamdatafiles             |\r\n",
      "+-----------------------------+\r\n"
     ]
    }
   ],
   "source": [
    "!mysql -h mysql -u root -ppassword -e \"use server_dias_devel;show tables;\""
   ]
  },
  {
   "cell_type": "code",
   "execution_count": 5,
   "metadata": {
    "pycharm": {
     "name": "#%%\n"
    }
   },
   "outputs": [
    {
     "name": "stdout",
     "output_type": "stream",
     "text": [
      "mysql: [Warning] Using a password on the command line interface can be insecure.\r\n"
     ]
    }
   ],
   "source": [
    "!mysql -h mysql -u root -ppassword -e \"use server_dias_devel;select * from magdata order by ACE_date desc;\" > /home/jovyan/u1/pithia/demo/results/table_size.txt"
   ]
  },
  {
   "cell_type": "code",
   "execution_count": 6,
   "metadata": {
    "pycharm": {
     "name": "#%%\n"
    }
   },
   "outputs": [
    {
     "name": "stdout",
     "output_type": "stream",
     "text": [
      "id\tACE_date\tBmag\tBx\tBy\tBz\tflg_knd\tflg_scstrm\r\n",
      "45073\t2021-04-06 09:00:00\t5.75\t-2.43286\t0.305238\t4.95238\t10\t0\r\n",
      "45061\t2021-04-06 08:00:00\t7.17467\t-2.623\t-3.12483\t5.87067\t10\t0\r\n",
      "45049\t2021-04-06 07:00:00\t7.51667\t-3.11778\t-2.31722\t6.18111\t10\t0\r\n",
      "45037\t2021-04-06 06:00:00\t7.086\t-2.988\t-1.078\t6.328\t10\t0\r\n",
      "45025\t2021-04-06 05:00:00\t7.11\t-1.95\t-1.1\t6.75\t10\t0\r\n",
      "45013\t2021-04-06 04:00:00\t6.85\t-2.632\t1.882\t6.03\t10\t0\r\n",
      "45001\t2021-04-06 03:00:00\t8.088\t-2.618\t1.066\t7.54\t10\t0\r\n",
      "44989\t2021-04-06 02:00:00\t8.324\t-1.824\t5.894\t5.568\t10\t0\r\n",
      "44977\t2021-04-06 01:00:00\t8.968\t-2.312\t7.158\t4.874\t10\t0\r\n"
     ]
    }
   ],
   "source": [
    "!head /home/jovyan/u1/pithia/demo/results/table_size.txt"
   ]
  },
  {
   "cell_type": "code",
   "execution_count": 7,
   "metadata": {
    "pycharm": {
     "name": "#%%\n"
    }
   },
   "outputs": [
    {
     "name": "stdout",
     "output_type": "stream",
     "text": [
      "10436\t2018-01-01 09:00:00\t7.12333\t-5.17833\t4.43167\t-1.46667\t0\t1\r\n",
      "10435\t2018-01-01 08:00:00\t8.02\t-4.53333\t4.53\t-2.875\t0\t1\r\n",
      "10434\t2018-01-01 07:00:00\t7.625\t-3.68667\t5.42\t-1.74\t0\t1\r\n",
      "10433\t2018-01-01 06:00:00\t7\t-3.5\t5.83333\t-1.26667\t0\t1\r\n",
      "10432\t2018-01-01 05:00:00\tNULL\tNULL\tNULL\tNULL\t0\t1\r\n",
      "10431\t2018-01-01 04:00:00\tNULL\tNULL\tNULL\tNULL\t0\t1\r\n",
      "10430\t2018-01-01 03:00:00\tNULL\tNULL\tNULL\tNULL\t0\t1\r\n",
      "10429\t2018-01-01 02:00:00\tNULL\tNULL\tNULL\tNULL\t0\t1\r\n",
      "10428\t2018-01-01 01:00:00\tNULL\tNULL\tNULL\tNULL\t0\t1\r\n",
      "10427\t2018-01-01 00:00:00\tNULL\tNULL\tNULL\tNULL\t0\t1\r\n"
     ]
    }
   ],
   "source": [
    "!tail /home/jovyan/u1/pithia/demo/results/table_size.txt"
   ]
  },
  {
   "cell_type": "code",
   "execution_count": null,
   "metadata": {
    "pycharm": {
     "name": "#%%\n"
    }
   },
   "outputs": [],
   "source": []
  }
 ],
 "metadata": {
  "kernelspec": {
   "display_name": "Python 3",
   "language": "python",
   "name": "python3"
  },
  "language_info": {
   "codemirror_mode": {
    "name": "ipython",
    "version": 3
   },
   "file_extension": ".py",
   "mimetype": "text/x-python",
   "name": "python",
   "nbconvert_exporter": "python",
   "pygments_lexer": "ipython3",
   "version": "3.8.6"
  }
 },
 "nbformat": 4,
 "nbformat_minor": 4
}