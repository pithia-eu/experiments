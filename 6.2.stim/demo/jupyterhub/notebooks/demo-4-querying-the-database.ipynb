{
 "cells": [
  {
   "cell_type": "markdown",
   "metadata": {
    "pycharm": {
     "name": "#%% md\n"
    }
   },
   "source": [
    "Quering thethe Database"
   ]
  },
  {
   "cell_type": "markdown",
   "metadata": {
    "pycharm": {
     "name": "#%% md\n"
    }
   },
   "source": [
    "QStorms"
   ]
  },
  {
   "cell_type": "code",
   "execution_count": 1,
   "metadata": {
    "pycharm": {
     "name": "#%%\n"
    }
   },
   "outputs": [
    {
     "name": "stdout",
     "output_type": "stream",
     "text": [
      "mysql: [Warning] Using a password on the command line interface can be insecure.\r\n",
      "id\tStorm_Onset\tBz_minTime\tStorm_Offset\tisclosed\r\n",
      "2\t2019-05-14 03:00:00\t2019-05-14 04:00:00\t2019-05-14 07:00:00\t1\r\n",
      "1\t2018-08-25 18:00:00\t2018-08-25 21:00:00\t2018-08-26 12:00:00\t1\r\n"
     ]
    }
   ],
   "source": [
    "!mysql -h mysql -u root -ppassword server_dias_devel < /home/jovyan/u1/pithia/demo/queries/QStorms.sql"
   ]
  },
  {
   "cell_type": "markdown",
   "metadata": {
    "pycharm": {
     "name": "#%% md\n"
    }
   },
   "source": [
    "QBx"
   ]
  },
  {
   "cell_type": "code",
   "execution_count": 2,
   "metadata": {
    "pycharm": {
     "name": "#%%\n"
    }
   },
   "outputs": [
    {
     "name": "stdout",
     "output_type": "stream",
     "text": [
      "mysql: [Warning] Using a password on the command line interface can be insecure.\r\n"
     ]
    }
   ],
   "source": [
    "!mysql -h mysql -u root -ppassword server_dias_devel < /home/jovyan/u1/pithia/demo/queries/QBx.sql > /home/jovyan/u1/pithia/demo/results/QBx.txt"
   ]
  },
  {
   "cell_type": "code",
   "execution_count": 3,
   "metadata": {
    "pycharm": {
     "name": "#%%\n"
    }
   },
   "outputs": [
    {
     "name": "stdout",
     "output_type": "stream",
     "text": [
      "id\tACE_date\tBmag\tBx\tBy\tBz\tflg_scstrm\tStorm_Onset\tStorm_Offset\tBz_minTime\tBz_min\r\n",
      "1\t2021-03-23 19:00:00\t3.01\t-1.533\t-1.087\t-2.268\t0\tNULL\tNULL\tNULL\tNULL\r\n",
      "2\t2021-03-23 20:00:00\t3.05667\t-1.63183\t-0.0705\t-2.16933\t0\tNULL\tNULL\tNULL\tNULL\r\n",
      "3\t2021-03-23 21:00:00\t3.59783\t-1.63367\t1.43067\t-2.43333\t0\tNULL\tNULL\tNULL\tNULL\r\n",
      "4\t2021-03-23 22:00:00\t3.93067\t-2.07583\t1.1405\t-2.43983\t0\tNULL\tNULL\tNULL\tNULL\r\n",
      "5\t2021-03-23 23:00:00\t3.55183\t-1.83133\t-1.86533\t-2.01333\t0\tNULL\tNULL\tNULL\tNULL\r\n",
      "6\t2021-03-24 00:00:00\t3.90667\t-1.55767\t-2.36617\t-2.51067\t0\tNULL\tNULL\tNULL\tNULL\r\n",
      "7\t2021-03-24 01:00:00\t3.47933\t-0.952833\t-2.73283\t-1.4595\t0\tNULL\tNULL\tNULL\tNULL\r\n",
      "8\t2021-03-24 02:00:00\t2.78633\t-0.646167\t-1.81067\t-1.71767\t0\tNULL\tNULL\tNULL\tNULL\r\n",
      "9\t2021-03-24 03:00:00\t1.1655\t-0.645167\t-0.377167\t-0.4895\t0\tNULL\tNULL\tNULL\tNULL\r\n"
     ]
    }
   ],
   "source": [
    "!head /home/jovyan/u1/pithia/demo/results/QBx.txt"
   ]
  },
  {
   "cell_type": "code",
   "execution_count": 4,
   "metadata": {
    "pycharm": {
     "name": "#%%\n"
    }
   },
   "outputs": [
    {
     "name": "stdout",
     "output_type": "stream",
     "text": [
      "44965\t2021-04-06 00:00:00\t8.614\t-1.702\t6.238\t5.678\t0\tNULL\tNULL\tNULL\tNULL\r\n",
      "44977\t2021-04-06 01:00:00\t8.968\t-2.312\t7.158\t4.874\t0\tNULL\tNULL\tNULL\tNULL\r\n",
      "44989\t2021-04-06 02:00:00\t8.324\t-1.824\t5.894\t5.568\t0\tNULL\tNULL\tNULL\tNULL\r\n",
      "45001\t2021-04-06 03:00:00\t8.088\t-2.618\t1.066\t7.54\t0\tNULL\tNULL\tNULL\tNULL\r\n",
      "45013\t2021-04-06 04:00:00\t6.85\t-2.632\t1.882\t6.03\t0\tNULL\tNULL\tNULL\tNULL\r\n",
      "45025\t2021-04-06 05:00:00\t7.11\t-1.95\t-1.1\t6.75\t0\tNULL\tNULL\tNULL\tNULL\r\n",
      "45037\t2021-04-06 06:00:00\t7.086\t-2.988\t-1.078\t6.328\t0\tNULL\tNULL\tNULL\tNULL\r\n",
      "45049\t2021-04-06 07:00:00\t7.6256\t-3.1088\t-3.138\t6.034\t0\tNULL\tNULL\tNULL\tNULL\r\n",
      "45061\t2021-04-06 08:00:00\t7.17467\t-2.623\t-3.12483\t5.87067\t0\tNULL\tNULL\tNULL\tNULL\r\n",
      "45073\t2021-04-06 09:00:00\t5.61344\t-2.27187\t1.435\t4.27344\t0\tNULL\tNULL\tNULL\tNULL\r\n"
     ]
    }
   ],
   "source": [
    "!tail /home/jovyan/u1/pithia/demo/results/QBx.txt"
   ]
  },
  {
   "cell_type": "markdown",
   "metadata": {
    "pycharm": {
     "name": "#%% md\n"
    }
   },
   "source": [
    "QBy"
   ]
  },
  {
   "cell_type": "code",
   "execution_count": 5,
   "metadata": {
    "pycharm": {
     "name": "#%%\n"
    }
   },
   "outputs": [
    {
     "name": "stdout",
     "output_type": "stream",
     "text": [
      "mysql: [Warning] Using a password on the command line interface can be insecure.\r\n"
     ]
    }
   ],
   "source": [
    "!mysql -h mysql -u root -ppassword server_dias_devel < /home/jovyan/u1/pithia/demo/queries/QBy.sql > /home/jovyan/u1/pithia/demo/results/QBy.txt"
   ]
  },
  {
   "cell_type": "code",
   "execution_count": 6,
   "metadata": {
    "pycharm": {
     "name": "#%%\n"
    }
   },
   "outputs": [
    {
     "name": "stdout",
     "output_type": "stream",
     "text": [
      "id\tACE_date\tBmag\tBx\tBy\tBz\tflg_scstrm\tStorm_Onset\tStorm_Offset\tBz_minTime\tBz_min\r\n",
      "1\t2021-03-23 19:00:00\t3.01\t-1.533\t-1.087\t-2.268\t0\tNULL\tNULL\tNULL\tNULL\r\n",
      "2\t2021-03-23 20:00:00\t3.05667\t-1.63183\t-0.0705\t-2.16933\t0\tNULL\tNULL\tNULL\tNULL\r\n",
      "3\t2021-03-23 21:00:00\t3.59783\t-1.63367\t1.43067\t-2.43333\t0\tNULL\tNULL\tNULL\tNULL\r\n",
      "4\t2021-03-23 22:00:00\t3.93067\t-2.07583\t1.1405\t-2.43983\t0\tNULL\tNULL\tNULL\tNULL\r\n",
      "5\t2021-03-23 23:00:00\t3.55183\t-1.83133\t-1.86533\t-2.01333\t0\tNULL\tNULL\tNULL\tNULL\r\n",
      "6\t2021-03-24 00:00:00\t3.90667\t-1.55767\t-2.36617\t-2.51067\t0\tNULL\tNULL\tNULL\tNULL\r\n",
      "7\t2021-03-24 01:00:00\t3.47933\t-0.952833\t-2.73283\t-1.4595\t0\tNULL\tNULL\tNULL\tNULL\r\n",
      "8\t2021-03-24 02:00:00\t2.78633\t-0.646167\t-1.81067\t-1.71767\t0\tNULL\tNULL\tNULL\tNULL\r\n",
      "9\t2021-03-24 03:00:00\t1.1655\t-0.645167\t-0.377167\t-0.4895\t0\tNULL\tNULL\tNULL\tNULL\r\n"
     ]
    }
   ],
   "source": [
    "!head /home/jovyan/u1/pithia/demo/results/QBy.txt"
   ]
  },
  {
   "cell_type": "code",
   "execution_count": 7,
   "metadata": {
    "scrolled": true,
    "pycharm": {
     "name": "#%%\n"
    }
   },
   "outputs": [
    {
     "name": "stdout",
     "output_type": "stream",
     "text": [
      "44965\t2021-04-06 00:00:00\t8.614\t-1.702\t6.238\t5.678\t0\tNULL\tNULL\tNULL\tNULL\r\n",
      "44977\t2021-04-06 01:00:00\t8.968\t-2.312\t7.158\t4.874\t0\tNULL\tNULL\tNULL\tNULL\r\n",
      "44989\t2021-04-06 02:00:00\t8.324\t-1.824\t5.894\t5.568\t0\tNULL\tNULL\tNULL\tNULL\r\n",
      "45001\t2021-04-06 03:00:00\t8.088\t-2.618\t1.066\t7.54\t0\tNULL\tNULL\tNULL\tNULL\r\n",
      "45013\t2021-04-06 04:00:00\t6.85\t-2.632\t1.882\t6.03\t0\tNULL\tNULL\tNULL\tNULL\r\n",
      "45025\t2021-04-06 05:00:00\t7.11\t-1.95\t-1.1\t6.75\t0\tNULL\tNULL\tNULL\tNULL\r\n",
      "45037\t2021-04-06 06:00:00\t7.086\t-2.988\t-1.078\t6.328\t0\tNULL\tNULL\tNULL\tNULL\r\n",
      "45049\t2021-04-06 07:00:00\t7.6256\t-3.1088\t-3.138\t6.034\t0\tNULL\tNULL\tNULL\tNULL\r\n",
      "45061\t2021-04-06 08:00:00\t7.17467\t-2.623\t-3.12483\t5.87067\t0\tNULL\tNULL\tNULL\tNULL\r\n",
      "45073\t2021-04-06 09:00:00\t5.61344\t-2.27187\t1.435\t4.27344\t0\tNULL\tNULL\tNULL\tNULL\r\n"
     ]
    }
   ],
   "source": [
    "!tail /home/jovyan/u1/pithia/demo/results/QBy.txt"
   ]
  },
  {
   "cell_type": "markdown",
   "metadata": {
    "pycharm": {
     "name": "#%% md\n"
    }
   },
   "source": [
    "QBZ"
   ]
  },
  {
   "cell_type": "code",
   "execution_count": 8,
   "metadata": {
    "pycharm": {
     "name": "#%%\n"
    }
   },
   "outputs": [
    {
     "name": "stdout",
     "output_type": "stream",
     "text": [
      "mysql: [Warning] Using a password on the command line interface can be insecure.\r\n"
     ]
    }
   ],
   "source": [
    "!mysql -h mysql -u root -ppassword server_dias_devel < /home/jovyan/u1/pithia/demo/queries/QBz.sql > /home/jovyan/u1/pithia/demo/results/QBz.txt"
   ]
  },
  {
   "cell_type": "code",
   "execution_count": 9,
   "metadata": {
    "pycharm": {
     "name": "#%%\n"
    }
   },
   "outputs": [
    {
     "name": "stdout",
     "output_type": "stream",
     "text": [
      "id\tACE_date\tBmag\tBx\tBy\tBz\tflg_scstrm\tStorm_Onset\tStorm_Offset\tBz_minTime\tBz_min\r\n",
      "1\t2021-03-23 19:00:00\t3.01\t-1.533\t-1.087\t-2.268\t0\tNULL\tNULL\tNULL\tNULL\r\n",
      "2\t2021-03-23 20:00:00\t3.05667\t-1.63183\t-0.0705\t-2.16933\t0\tNULL\tNULL\tNULL\tNULL\r\n",
      "3\t2021-03-23 21:00:00\t3.59783\t-1.63367\t1.43067\t-2.43333\t0\tNULL\tNULL\tNULL\tNULL\r\n",
      "4\t2021-03-23 22:00:00\t3.93067\t-2.07583\t1.1405\t-2.43983\t0\tNULL\tNULL\tNULL\tNULL\r\n",
      "5\t2021-03-23 23:00:00\t3.55183\t-1.83133\t-1.86533\t-2.01333\t0\tNULL\tNULL\tNULL\tNULL\r\n",
      "6\t2021-03-24 00:00:00\t3.90667\t-1.55767\t-2.36617\t-2.51067\t0\tNULL\tNULL\tNULL\tNULL\r\n",
      "7\t2021-03-24 01:00:00\t3.47933\t-0.952833\t-2.73283\t-1.4595\t0\tNULL\tNULL\tNULL\tNULL\r\n",
      "8\t2021-03-24 02:00:00\t2.78633\t-0.646167\t-1.81067\t-1.71767\t0\tNULL\tNULL\tNULL\tNULL\r\n",
      "9\t2021-03-24 03:00:00\t1.1655\t-0.645167\t-0.377167\t-0.4895\t0\tNULL\tNULL\tNULL\tNULL\r\n"
     ]
    }
   ],
   "source": [
    "!head /home/jovyan/u1/pithia/demo/results/QBz.txt"
   ]
  },
  {
   "cell_type": "code",
   "execution_count": 10,
   "metadata": {
    "scrolled": true,
    "pycharm": {
     "name": "#%%\n"
    }
   },
   "outputs": [
    {
     "name": "stdout",
     "output_type": "stream",
     "text": [
      "44965\t2021-04-06 00:00:00\t8.614\t-1.702\t6.238\t5.678\t0\tNULL\tNULL\tNULL\tNULL\r\n",
      "44977\t2021-04-06 01:00:00\t8.968\t-2.312\t7.158\t4.874\t0\tNULL\tNULL\tNULL\tNULL\r\n",
      "44989\t2021-04-06 02:00:00\t8.324\t-1.824\t5.894\t5.568\t0\tNULL\tNULL\tNULL\tNULL\r\n",
      "45001\t2021-04-06 03:00:00\t8.088\t-2.618\t1.066\t7.54\t0\tNULL\tNULL\tNULL\tNULL\r\n",
      "45013\t2021-04-06 04:00:00\t6.85\t-2.632\t1.882\t6.03\t0\tNULL\tNULL\tNULL\tNULL\r\n",
      "45025\t2021-04-06 05:00:00\t7.11\t-1.95\t-1.1\t6.75\t0\tNULL\tNULL\tNULL\tNULL\r\n",
      "45037\t2021-04-06 06:00:00\t7.086\t-2.988\t-1.078\t6.328\t0\tNULL\tNULL\tNULL\tNULL\r\n",
      "45049\t2021-04-06 07:00:00\t7.6256\t-3.1088\t-3.138\t6.034\t0\tNULL\tNULL\tNULL\tNULL\r\n",
      "45061\t2021-04-06 08:00:00\t7.17467\t-2.623\t-3.12483\t5.87067\t0\tNULL\tNULL\tNULL\tNULL\r\n",
      "45073\t2021-04-06 09:00:00\t5.61344\t-2.27187\t1.435\t4.27344\t0\tNULL\tNULL\tNULL\tNULL\r\n"
     ]
    }
   ],
   "source": [
    "!tail /home/jovyan/u1/pithia/demo/results/QBz.txt"
   ]
  },
  {
   "cell_type": "markdown",
   "metadata": {
    "pycharm": {
     "name": "#%% md\n"
    }
   },
   "source": [
    "QBmag"
   ]
  },
  {
   "cell_type": "code",
   "execution_count": 11,
   "metadata": {
    "pycharm": {
     "name": "#%%\n"
    }
   },
   "outputs": [
    {
     "name": "stdout",
     "output_type": "stream",
     "text": [
      "mysql: [Warning] Using a password on the command line interface can be insecure.\r\n"
     ]
    }
   ],
   "source": [
    "!mysql -h mysql -u root -ppassword server_dias_devel < /home/jovyan/u1/pithia/demo/queries/QBmag.sql > /home/jovyan/u1/pithia/demo/results/QBmag.txt"
   ]
  },
  {
   "cell_type": "code",
   "execution_count": 12,
   "metadata": {
    "pycharm": {
     "name": "#%%\n"
    }
   },
   "outputs": [
    {
     "name": "stdout",
     "output_type": "stream",
     "text": [
      "id\tACE_date\tBmag\tBx\tBy\tBz\tflg_scstrm\tStorm_Onset\tStorm_Offset\tBz_minTime\tBz_min\r\n",
      "1\t2021-03-23 19:00:00\t3.01\t-1.533\t-1.087\t-2.268\t0\tNULL\tNULL\tNULL\tNULL\r\n",
      "2\t2021-03-23 20:00:00\t3.05667\t-1.63183\t-0.0705\t-2.16933\t0\tNULL\tNULL\tNULL\tNULL\r\n",
      "3\t2021-03-23 21:00:00\t3.59783\t-1.63367\t1.43067\t-2.43333\t0\tNULL\tNULL\tNULL\tNULL\r\n",
      "4\t2021-03-23 22:00:00\t3.93067\t-2.07583\t1.1405\t-2.43983\t0\tNULL\tNULL\tNULL\tNULL\r\n",
      "5\t2021-03-23 23:00:00\t3.55183\t-1.83133\t-1.86533\t-2.01333\t0\tNULL\tNULL\tNULL\tNULL\r\n",
      "6\t2021-03-24 00:00:00\t3.90667\t-1.55767\t-2.36617\t-2.51067\t0\tNULL\tNULL\tNULL\tNULL\r\n",
      "7\t2021-03-24 01:00:00\t3.47933\t-0.952833\t-2.73283\t-1.4595\t0\tNULL\tNULL\tNULL\tNULL\r\n",
      "8\t2021-03-24 02:00:00\t2.78633\t-0.646167\t-1.81067\t-1.71767\t0\tNULL\tNULL\tNULL\tNULL\r\n",
      "9\t2021-03-24 03:00:00\t1.1655\t-0.645167\t-0.377167\t-0.4895\t0\tNULL\tNULL\tNULL\tNULL\r\n"
     ]
    }
   ],
   "source": [
    "!head /home/jovyan/u1/pithia/demo/results/QBmag.txt"
   ]
  },
  {
   "cell_type": "code",
   "execution_count": 13,
   "metadata": {
    "scrolled": true,
    "pycharm": {
     "name": "#%%\n"
    }
   },
   "outputs": [
    {
     "name": "stdout",
     "output_type": "stream",
     "text": [
      "44965\t2021-04-06 00:00:00\t8.614\t-1.702\t6.238\t5.678\t0\tNULL\tNULL\tNULL\tNULL\r\n",
      "44977\t2021-04-06 01:00:00\t8.968\t-2.312\t7.158\t4.874\t0\tNULL\tNULL\tNULL\tNULL\r\n",
      "44989\t2021-04-06 02:00:00\t8.324\t-1.824\t5.894\t5.568\t0\tNULL\tNULL\tNULL\tNULL\r\n",
      "45001\t2021-04-06 03:00:00\t8.088\t-2.618\t1.066\t7.54\t0\tNULL\tNULL\tNULL\tNULL\r\n",
      "45013\t2021-04-06 04:00:00\t6.85\t-2.632\t1.882\t6.03\t0\tNULL\tNULL\tNULL\tNULL\r\n",
      "45025\t2021-04-06 05:00:00\t7.11\t-1.95\t-1.1\t6.75\t0\tNULL\tNULL\tNULL\tNULL\r\n",
      "45037\t2021-04-06 06:00:00\t7.086\t-2.988\t-1.078\t6.328\t0\tNULL\tNULL\tNULL\tNULL\r\n",
      "45049\t2021-04-06 07:00:00\t7.6256\t-3.1088\t-3.138\t6.034\t0\tNULL\tNULL\tNULL\tNULL\r\n",
      "45061\t2021-04-06 08:00:00\t7.17467\t-2.623\t-3.12483\t5.87067\t0\tNULL\tNULL\tNULL\tNULL\r\n",
      "45073\t2021-04-06 09:00:00\t5.61344\t-2.27187\t1.435\t4.27344\t0\tNULL\tNULL\tNULL\tNULL\r\n"
     ]
    }
   ],
   "source": [
    "!tail /home/jovyan/u1/pithia/demo/results/QBmag.txt"
   ]
  }
 ],
 "metadata": {
  "kernelspec": {
   "display_name": "Python 3",
   "language": "python",
   "name": "python3"
  },
  "language_info": {
   "codemirror_mode": {
    "name": "ipython",
    "version": 3
   },
   "file_extension": ".py",
   "mimetype": "text/x-python",
   "name": "python",
   "nbconvert_exporter": "python",
   "pygments_lexer": "ipython3",
   "version": "3.8.6"
  }
 },
 "nbformat": 4,
 "nbformat_minor": 4
}